{
 "cells": [
  {
   "cell_type": "code",
   "execution_count": 2,
   "metadata": {},
   "outputs": [],
   "source": [
    "#setting up libraries\n",
    "from datascience import *\n",
    "import numpy as npy\n",
    "\n",
    "%matplotlib inline\n",
    "import matplotlib.pyplot as plots\n",
    "plots.style.use('fivethirtyeight')\n",
    "import pandas as pd\n",
    "import matplotlib.ticker as mticker"
   ]
  },
  {
   "cell_type": "code",
   "execution_count": 3,
   "metadata": {},
   "outputs": [],
   "source": [
    "temperature = Table.read_table('temperature.csv')"
   ]
  },
  {
   "cell_type": "code",
   "execution_count": 4,
   "metadata": {},
   "outputs": [
    {
     "data": {
      "text/html": [
       "<table border=\"1\" class=\"dataframe\">\n",
       "    <thead>\n",
       "        <tr>\n",
       "            <th>dt</th> <th>AverageTemperature</th> <th>AverageTemperatureUncertainty</th> <th>City</th> <th>Country</th> <th>Latitude</th> <th>Longitude</th>\n",
       "        </tr>\n",
       "    </thead>\n",
       "    <tbody>\n",
       "        <tr>\n",
       "            <td>1849-01-01</td> <td>26.704            </td> <td>1.435                        </td> <td>Abidjan</td> <td>Côte D'Ivoire</td> <td>5.63N   </td> <td>3.23W    </td>\n",
       "        </tr>\n",
       "        <tr>\n",
       "            <td>1849-02-01</td> <td>27.434            </td> <td>1.362                        </td> <td>Abidjan</td> <td>Côte D'Ivoire</td> <td>5.63N   </td> <td>3.23W    </td>\n",
       "        </tr>\n",
       "        <tr>\n",
       "            <td>1849-03-01</td> <td>28.101            </td> <td>1.612                        </td> <td>Abidjan</td> <td>Côte D'Ivoire</td> <td>5.63N   </td> <td>3.23W    </td>\n",
       "        </tr>\n",
       "        <tr>\n",
       "            <td>1849-04-01</td> <td>26.14             </td> <td>1.387                        </td> <td>Abidjan</td> <td>Côte D'Ivoire</td> <td>5.63N   </td> <td>3.23W    </td>\n",
       "        </tr>\n",
       "        <tr>\n",
       "            <td>1849-05-01</td> <td>25.427            </td> <td>1.2                          </td> <td>Abidjan</td> <td>Côte D'Ivoire</td> <td>5.63N   </td> <td>3.23W    </td>\n",
       "        </tr>\n",
       "        <tr>\n",
       "            <td>1849-06-01</td> <td>24.844            </td> <td>1.402                        </td> <td>Abidjan</td> <td>Côte D'Ivoire</td> <td>5.63N   </td> <td>3.23W    </td>\n",
       "        </tr>\n",
       "        <tr>\n",
       "            <td>1849-07-01</td> <td>24.058            </td> <td>1.254                        </td> <td>Abidjan</td> <td>Côte D'Ivoire</td> <td>5.63N   </td> <td>3.23W    </td>\n",
       "        </tr>\n",
       "        <tr>\n",
       "            <td>1849-08-01</td> <td>23.576            </td> <td>1.265                        </td> <td>Abidjan</td> <td>Côte D'Ivoire</td> <td>5.63N   </td> <td>3.23W    </td>\n",
       "        </tr>\n",
       "        <tr>\n",
       "            <td>1849-09-01</td> <td>23.662            </td> <td>1.226                        </td> <td>Abidjan</td> <td>Côte D'Ivoire</td> <td>5.63N   </td> <td>3.23W    </td>\n",
       "        </tr>\n",
       "        <tr>\n",
       "            <td>1849-10-01</td> <td>25.263            </td> <td>1.175                        </td> <td>Abidjan</td> <td>Côte D'Ivoire</td> <td>5.63N   </td> <td>3.23W    </td>\n",
       "        </tr>\n",
       "    </tbody>\n",
       "</table>\n",
       "<p>... (239167 rows omitted)</p>"
      ],
      "text/plain": [
       "dt         | AverageTemperature | AverageTemperatureUncertainty | City    | Country       | Latitude | Longitude\n",
       "1849-01-01 | 26.704             | 1.435                         | Abidjan | Côte D'Ivoire | 5.63N    | 3.23W\n",
       "1849-02-01 | 27.434             | 1.362                         | Abidjan | Côte D'Ivoire | 5.63N    | 3.23W\n",
       "1849-03-01 | 28.101             | 1.612                         | Abidjan | Côte D'Ivoire | 5.63N    | 3.23W\n",
       "1849-04-01 | 26.14              | 1.387                         | Abidjan | Côte D'Ivoire | 5.63N    | 3.23W\n",
       "1849-05-01 | 25.427             | 1.2                           | Abidjan | Côte D'Ivoire | 5.63N    | 3.23W\n",
       "1849-06-01 | 24.844             | 1.402                         | Abidjan | Côte D'Ivoire | 5.63N    | 3.23W\n",
       "1849-07-01 | 24.058             | 1.254                         | Abidjan | Côte D'Ivoire | 5.63N    | 3.23W\n",
       "1849-08-01 | 23.576             | 1.265                         | Abidjan | Côte D'Ivoire | 5.63N    | 3.23W\n",
       "1849-09-01 | 23.662             | 1.226                         | Abidjan | Côte D'Ivoire | 5.63N    | 3.23W\n",
       "1849-10-01 | 25.263             | 1.175                         | Abidjan | Côte D'Ivoire | 5.63N    | 3.23W\n",
       "... (239167 rows omitted)"
      ]
     },
     "execution_count": 4,
     "metadata": {},
     "output_type": "execute_result"
    }
   ],
   "source": [
    "temperature"
   ]
  },
  {
   "cell_type": "code",
   "execution_count": 5,
   "metadata": {},
   "outputs": [],
   "source": [
    "relabel = temperature.relabel(\"dt\", \"Date\")"
   ]
  },
  {
   "cell_type": "code",
   "execution_count": 6,
   "metadata": {},
   "outputs": [
    {
     "data": {
      "text/html": [
       "<table border=\"1\" class=\"dataframe\">\n",
       "    <thead>\n",
       "        <tr>\n",
       "            <th>Date</th> <th>AverageTemperature</th> <th>AverageTemperatureUncertainty</th> <th>City</th> <th>Country</th> <th>Latitude</th> <th>Longitude</th>\n",
       "        </tr>\n",
       "    </thead>\n",
       "    <tbody>\n",
       "        <tr>\n",
       "            <td>1849-01-01</td> <td>26.704            </td> <td>1.435                        </td> <td>Abidjan</td> <td>Côte D'Ivoire</td> <td>5.63N   </td> <td>3.23W    </td>\n",
       "        </tr>\n",
       "        <tr>\n",
       "            <td>1849-02-01</td> <td>27.434            </td> <td>1.362                        </td> <td>Abidjan</td> <td>Côte D'Ivoire</td> <td>5.63N   </td> <td>3.23W    </td>\n",
       "        </tr>\n",
       "        <tr>\n",
       "            <td>1849-03-01</td> <td>28.101            </td> <td>1.612                        </td> <td>Abidjan</td> <td>Côte D'Ivoire</td> <td>5.63N   </td> <td>3.23W    </td>\n",
       "        </tr>\n",
       "        <tr>\n",
       "            <td>1849-04-01</td> <td>26.14             </td> <td>1.387                        </td> <td>Abidjan</td> <td>Côte D'Ivoire</td> <td>5.63N   </td> <td>3.23W    </td>\n",
       "        </tr>\n",
       "        <tr>\n",
       "            <td>1849-05-01</td> <td>25.427            </td> <td>1.2                          </td> <td>Abidjan</td> <td>Côte D'Ivoire</td> <td>5.63N   </td> <td>3.23W    </td>\n",
       "        </tr>\n",
       "        <tr>\n",
       "            <td>1849-06-01</td> <td>24.844            </td> <td>1.402                        </td> <td>Abidjan</td> <td>Côte D'Ivoire</td> <td>5.63N   </td> <td>3.23W    </td>\n",
       "        </tr>\n",
       "        <tr>\n",
       "            <td>1849-07-01</td> <td>24.058            </td> <td>1.254                        </td> <td>Abidjan</td> <td>Côte D'Ivoire</td> <td>5.63N   </td> <td>3.23W    </td>\n",
       "        </tr>\n",
       "        <tr>\n",
       "            <td>1849-08-01</td> <td>23.576            </td> <td>1.265                        </td> <td>Abidjan</td> <td>Côte D'Ivoire</td> <td>5.63N   </td> <td>3.23W    </td>\n",
       "        </tr>\n",
       "        <tr>\n",
       "            <td>1849-09-01</td> <td>23.662            </td> <td>1.226                        </td> <td>Abidjan</td> <td>Côte D'Ivoire</td> <td>5.63N   </td> <td>3.23W    </td>\n",
       "        </tr>\n",
       "        <tr>\n",
       "            <td>1849-10-01</td> <td>25.263            </td> <td>1.175                        </td> <td>Abidjan</td> <td>Côte D'Ivoire</td> <td>5.63N   </td> <td>3.23W    </td>\n",
       "        </tr>\n",
       "    </tbody>\n",
       "</table>\n",
       "<p>... (239167 rows omitted)</p>"
      ],
      "text/plain": [
       "Date       | AverageTemperature | AverageTemperatureUncertainty | City    | Country       | Latitude | Longitude\n",
       "1849-01-01 | 26.704             | 1.435                         | Abidjan | Côte D'Ivoire | 5.63N    | 3.23W\n",
       "1849-02-01 | 27.434             | 1.362                         | Abidjan | Côte D'Ivoire | 5.63N    | 3.23W\n",
       "1849-03-01 | 28.101             | 1.612                         | Abidjan | Côte D'Ivoire | 5.63N    | 3.23W\n",
       "1849-04-01 | 26.14              | 1.387                         | Abidjan | Côte D'Ivoire | 5.63N    | 3.23W\n",
       "1849-05-01 | 25.427             | 1.2                           | Abidjan | Côte D'Ivoire | 5.63N    | 3.23W\n",
       "1849-06-01 | 24.844             | 1.402                         | Abidjan | Côte D'Ivoire | 5.63N    | 3.23W\n",
       "1849-07-01 | 24.058             | 1.254                         | Abidjan | Côte D'Ivoire | 5.63N    | 3.23W\n",
       "1849-08-01 | 23.576             | 1.265                         | Abidjan | Côte D'Ivoire | 5.63N    | 3.23W\n",
       "1849-09-01 | 23.662             | 1.226                         | Abidjan | Côte D'Ivoire | 5.63N    | 3.23W\n",
       "1849-10-01 | 25.263             | 1.175                         | Abidjan | Côte D'Ivoire | 5.63N    | 3.23W\n",
       "... (239167 rows omitted)"
      ]
     },
     "execution_count": 6,
     "metadata": {},
     "output_type": "execute_result"
    }
   ],
   "source": [
    "relabel"
   ]
  },
  {
   "cell_type": "code",
   "execution_count": 7,
   "metadata": {},
   "outputs": [],
   "source": [
    "#getting rid of unnecessary columns\n",
    "condensed = temperature.select('Date', 'AverageTemperature', 'City', 'Country')"
   ]
  },
  {
   "cell_type": "code",
   "execution_count": 8,
   "metadata": {},
   "outputs": [
    {
     "data": {
      "text/html": [
       "<table border=\"1\" class=\"dataframe\">\n",
       "    <thead>\n",
       "        <tr>\n",
       "            <th>Date</th> <th>AverageTemperature</th> <th>City</th> <th>Country</th>\n",
       "        </tr>\n",
       "    </thead>\n",
       "    <tbody>\n",
       "        <tr>\n",
       "            <td>1849-01-01</td> <td>26.704            </td> <td>Abidjan</td> <td>Côte D'Ivoire</td>\n",
       "        </tr>\n",
       "        <tr>\n",
       "            <td>1849-02-01</td> <td>27.434            </td> <td>Abidjan</td> <td>Côte D'Ivoire</td>\n",
       "        </tr>\n",
       "        <tr>\n",
       "            <td>1849-03-01</td> <td>28.101            </td> <td>Abidjan</td> <td>Côte D'Ivoire</td>\n",
       "        </tr>\n",
       "        <tr>\n",
       "            <td>1849-04-01</td> <td>26.14             </td> <td>Abidjan</td> <td>Côte D'Ivoire</td>\n",
       "        </tr>\n",
       "        <tr>\n",
       "            <td>1849-05-01</td> <td>25.427            </td> <td>Abidjan</td> <td>Côte D'Ivoire</td>\n",
       "        </tr>\n",
       "        <tr>\n",
       "            <td>1849-06-01</td> <td>24.844            </td> <td>Abidjan</td> <td>Côte D'Ivoire</td>\n",
       "        </tr>\n",
       "        <tr>\n",
       "            <td>1849-07-01</td> <td>24.058            </td> <td>Abidjan</td> <td>Côte D'Ivoire</td>\n",
       "        </tr>\n",
       "        <tr>\n",
       "            <td>1849-08-01</td> <td>23.576            </td> <td>Abidjan</td> <td>Côte D'Ivoire</td>\n",
       "        </tr>\n",
       "        <tr>\n",
       "            <td>1849-09-01</td> <td>23.662            </td> <td>Abidjan</td> <td>Côte D'Ivoire</td>\n",
       "        </tr>\n",
       "        <tr>\n",
       "            <td>1849-10-01</td> <td>25.263            </td> <td>Abidjan</td> <td>Côte D'Ivoire</td>\n",
       "        </tr>\n",
       "    </tbody>\n",
       "</table>\n",
       "<p>... (239167 rows omitted)</p>"
      ],
      "text/plain": [
       "Date       | AverageTemperature | City    | Country\n",
       "1849-01-01 | 26.704             | Abidjan | Côte D'Ivoire\n",
       "1849-02-01 | 27.434             | Abidjan | Côte D'Ivoire\n",
       "1849-03-01 | 28.101             | Abidjan | Côte D'Ivoire\n",
       "1849-04-01 | 26.14              | Abidjan | Côte D'Ivoire\n",
       "1849-05-01 | 25.427             | Abidjan | Côte D'Ivoire\n",
       "1849-06-01 | 24.844             | Abidjan | Côte D'Ivoire\n",
       "1849-07-01 | 24.058             | Abidjan | Côte D'Ivoire\n",
       "1849-08-01 | 23.576             | Abidjan | Côte D'Ivoire\n",
       "1849-09-01 | 23.662             | Abidjan | Côte D'Ivoire\n",
       "1849-10-01 | 25.263             | Abidjan | Côte D'Ivoire\n",
       "... (239167 rows omitted)"
      ]
     },
     "execution_count": 8,
     "metadata": {},
     "output_type": "execute_result"
    }
   ],
   "source": [
    "#printing out new table\n",
    "condensed"
   ]
  },
  {
   "cell_type": "code",
   "execution_count": 9,
   "metadata": {},
   "outputs": [],
   "source": [
    "#filtering for a specific country\n",
    "country = condensed.where('Country', 'United States')\n",
    "country"
   ]
  },
  {
   "cell_type": "code",
   "execution_count": 254,
   "metadata": {},
   "outputs": [
    {
     "data": {
      "text/html": [
       "<table border=\"1\" class=\"dataframe\">\n",
       "    <thead>\n",
       "        <tr>\n",
       "            <th>Date</th> <th>AverageTemperature</th> <th>City</th> <th>Country</th>\n",
       "        </tr>\n",
       "    </thead>\n",
       "    <tbody>\n",
       "        <tr>\n",
       "            <td>1743-11-01</td> <td>5.436             </td> <td>Chicago</td> <td>United States</td>\n",
       "        </tr>\n",
       "        <tr>\n",
       "            <td>1743-12-01</td> <td>nan               </td> <td>Chicago</td> <td>United States</td>\n",
       "        </tr>\n",
       "        <tr>\n",
       "            <td>1744-01-01</td> <td>nan               </td> <td>Chicago</td> <td>United States</td>\n",
       "        </tr>\n",
       "        <tr>\n",
       "            <td>1744-02-01</td> <td>nan               </td> <td>Chicago</td> <td>United States</td>\n",
       "        </tr>\n",
       "        <tr>\n",
       "            <td>1744-03-01</td> <td>nan               </td> <td>Chicago</td> <td>United States</td>\n",
       "        </tr>\n",
       "        <tr>\n",
       "            <td>1744-04-01</td> <td>8.766             </td> <td>Chicago</td> <td>United States</td>\n",
       "        </tr>\n",
       "        <tr>\n",
       "            <td>1744-05-01</td> <td>11.605            </td> <td>Chicago</td> <td>United States</td>\n",
       "        </tr>\n",
       "        <tr>\n",
       "            <td>1744-06-01</td> <td>17.965            </td> <td>Chicago</td> <td>United States</td>\n",
       "        </tr>\n",
       "        <tr>\n",
       "            <td>1744-07-01</td> <td>21.68             </td> <td>Chicago</td> <td>United States</td>\n",
       "        </tr>\n",
       "        <tr>\n",
       "            <td>1744-08-01</td> <td>nan               </td> <td>Chicago</td> <td>United States</td>\n",
       "        </tr>\n",
       "    </tbody>\n",
       "</table>\n",
       "<p>... (3229 rows omitted)</p>"
      ],
      "text/plain": [
       "Date       | AverageTemperature | City    | Country\n",
       "1743-11-01 | 5.436              | Chicago | United States\n",
       "1743-12-01 | nan                | Chicago | United States\n",
       "1744-01-01 | nan                | Chicago | United States\n",
       "1744-02-01 | nan                | Chicago | United States\n",
       "1744-03-01 | nan                | Chicago | United States\n",
       "1744-04-01 | 8.766              | Chicago | United States\n",
       "1744-05-01 | 11.605             | Chicago | United States\n",
       "1744-06-01 | 17.965             | Chicago | United States\n",
       "1744-07-01 | 21.68              | Chicago | United States\n",
       "1744-08-01 | nan                | Chicago | United States\n",
       "... (3229 rows omitted)"
      ]
     },
     "execution_count": 254,
     "metadata": {},
     "output_type": "execute_result"
    }
   ],
   "source": [
    "#filtering for a specific city\n",
    "city = country.where('City',\"Chicago\")\n",
    "#printing out the new table\n",
    "city"
   ]
  },
  {
   "cell_type": "code",
   "execution_count": 86,
   "metadata": {},
   "outputs": [
    {
     "data": {
      "text/html": [
       "<table border=\"1\" class=\"dataframe\">\n",
       "    <thead>\n",
       "        <tr>\n",
       "            <th>dt</th> <th>AverageTemperature</th> <th>AverageTemperatureUncertainty</th> <th>City</th> <th>Country</th> <th>Latitude</th> <th>Longitude</th>\n",
       "        </tr>\n",
       "    </thead>\n",
       "    <tbody>\n",
       "        <tr>\n",
       "            <td>2000-12-01</td> <td>-3.761            </td> <td>0.367                        </td> <td>Chicago</td> <td>United States</td> <td>42.59N  </td> <td>87.27W   </td>\n",
       "        </tr>\n",
       "        <tr>\n",
       "            <td>2001-12-01</td> <td>5.401             </td> <td>0.317                        </td> <td>Chicago</td> <td>United States</td> <td>42.59N  </td> <td>87.27W   </td>\n",
       "        </tr>\n",
       "        <tr>\n",
       "            <td>2002-12-01</td> <td>2.835             </td> <td>0.48                         </td> <td>Chicago</td> <td>United States</td> <td>42.59N  </td> <td>87.27W   </td>\n",
       "        </tr>\n",
       "        <tr>\n",
       "            <td>2003-12-01</td> <td>4.154             </td> <td>0.312                        </td> <td>Chicago</td> <td>United States</td> <td>42.59N  </td> <td>87.27W   </td>\n",
       "        </tr>\n",
       "        <tr>\n",
       "            <td>2004-12-01</td> <td>2.157             </td> <td>0.242                        </td> <td>Chicago</td> <td>United States</td> <td>42.59N  </td> <td>87.27W   </td>\n",
       "        </tr>\n",
       "        <tr>\n",
       "            <td>2005-12-01</td> <td>-0.147            </td> <td>0.177                        </td> <td>Chicago</td> <td>United States</td> <td>42.59N  </td> <td>87.27W   </td>\n",
       "        </tr>\n",
       "        <tr>\n",
       "            <td>2006-12-01</td> <td>5.132             </td> <td>0.162                        </td> <td>Chicago</td> <td>United States</td> <td>42.59N  </td> <td>87.27W   </td>\n",
       "        </tr>\n",
       "        <tr>\n",
       "            <td>2007-12-01</td> <td>1.526             </td> <td>0.266                        </td> <td>Chicago</td> <td>United States</td> <td>42.59N  </td> <td>87.27W   </td>\n",
       "        </tr>\n",
       "        <tr>\n",
       "            <td>2008-12-01</td> <td>-0.664            </td> <td>0.374                        </td> <td>Chicago</td> <td>United States</td> <td>42.59N  </td> <td>87.27W   </td>\n",
       "        </tr>\n",
       "        <tr>\n",
       "            <td>2009-12-01</td> <td>1.563             </td> <td>0.348                        </td> <td>Chicago</td> <td>United States</td> <td>42.59N  </td> <td>87.27W   </td>\n",
       "        </tr>\n",
       "    </tbody>\n",
       "</table>\n",
       "<p>... (3 rows omitted)</p>"
      ],
      "text/plain": [
       "dt         | AverageTemperature | AverageTemperatureUncertainty | City    | Country       | Latitude | Longitude\n",
       "2000-12-01 | -3.761             | 0.367                         | Chicago | United States | 42.59N   | 87.27W\n",
       "2001-12-01 | 5.401              | 0.317                         | Chicago | United States | 42.59N   | 87.27W\n",
       "2002-12-01 | 2.835              | 0.48                          | Chicago | United States | 42.59N   | 87.27W\n",
       "2003-12-01 | 4.154              | 0.312                         | Chicago | United States | 42.59N   | 87.27W\n",
       "2004-12-01 | 2.157              | 0.242                         | Chicago | United States | 42.59N   | 87.27W\n",
       "2005-12-01 | -0.147             | 0.177                         | Chicago | United States | 42.59N   | 87.27W\n",
       "2006-12-01 | 5.132              | 0.162                         | Chicago | United States | 42.59N   | 87.27W\n",
       "2007-12-01 | 1.526              | 0.266                         | Chicago | United States | 42.59N   | 87.27W\n",
       "2008-12-01 | -0.664             | 0.374                         | Chicago | United States | 42.59N   | 87.27W\n",
       "2009-12-01 | 1.563              | 0.348                         | Chicago | United States | 42.59N   | 87.27W\n",
       "... (3 rows omitted)"
      ]
     },
     "execution_count": 86,
     "metadata": {},
     "output_type": "execute_result"
    }
   ],
   "source": [
    "#importing the table above, but with only dates 2000-2013\n",
    "#beginning of getting data for chicago december\n",
    "chicago = Table.read_table(\"chicago.csv\")\n",
    "chicago"
   ]
  },
  {
   "cell_type": "code",
   "execution_count": 91,
   "metadata": {},
   "outputs": [],
   "source": [
    "#relabeling the date from dt to Date\n",
    "chicagorelabel = chicago.relabeled('dt', 'Date')"
   ]
  },
  {
   "cell_type": "code",
   "execution_count": 92,
   "metadata": {},
   "outputs": [
    {
     "data": {
      "text/html": [
       "<table border=\"1\" class=\"dataframe\">\n",
       "    <thead>\n",
       "        <tr>\n",
       "            <th>Date</th> <th>AverageTemperature</th> <th>AverageTemperatureUncertainty</th> <th>City</th> <th>Country</th> <th>Latitude</th> <th>Longitude</th>\n",
       "        </tr>\n",
       "    </thead>\n",
       "    <tbody>\n",
       "        <tr>\n",
       "            <td>2000-12-01</td> <td>-3.761            </td> <td>0.367                        </td> <td>Chicago</td> <td>United States</td> <td>42.59N  </td> <td>87.27W   </td>\n",
       "        </tr>\n",
       "        <tr>\n",
       "            <td>2001-12-01</td> <td>5.401             </td> <td>0.317                        </td> <td>Chicago</td> <td>United States</td> <td>42.59N  </td> <td>87.27W   </td>\n",
       "        </tr>\n",
       "        <tr>\n",
       "            <td>2002-12-01</td> <td>2.835             </td> <td>0.48                         </td> <td>Chicago</td> <td>United States</td> <td>42.59N  </td> <td>87.27W   </td>\n",
       "        </tr>\n",
       "        <tr>\n",
       "            <td>2003-12-01</td> <td>4.154             </td> <td>0.312                        </td> <td>Chicago</td> <td>United States</td> <td>42.59N  </td> <td>87.27W   </td>\n",
       "        </tr>\n",
       "        <tr>\n",
       "            <td>2004-12-01</td> <td>2.157             </td> <td>0.242                        </td> <td>Chicago</td> <td>United States</td> <td>42.59N  </td> <td>87.27W   </td>\n",
       "        </tr>\n",
       "        <tr>\n",
       "            <td>2005-12-01</td> <td>-0.147            </td> <td>0.177                        </td> <td>Chicago</td> <td>United States</td> <td>42.59N  </td> <td>87.27W   </td>\n",
       "        </tr>\n",
       "        <tr>\n",
       "            <td>2006-12-01</td> <td>5.132             </td> <td>0.162                        </td> <td>Chicago</td> <td>United States</td> <td>42.59N  </td> <td>87.27W   </td>\n",
       "        </tr>\n",
       "        <tr>\n",
       "            <td>2007-12-01</td> <td>1.526             </td> <td>0.266                        </td> <td>Chicago</td> <td>United States</td> <td>42.59N  </td> <td>87.27W   </td>\n",
       "        </tr>\n",
       "        <tr>\n",
       "            <td>2008-12-01</td> <td>-0.664            </td> <td>0.374                        </td> <td>Chicago</td> <td>United States</td> <td>42.59N  </td> <td>87.27W   </td>\n",
       "        </tr>\n",
       "        <tr>\n",
       "            <td>2009-12-01</td> <td>1.563             </td> <td>0.348                        </td> <td>Chicago</td> <td>United States</td> <td>42.59N  </td> <td>87.27W   </td>\n",
       "        </tr>\n",
       "    </tbody>\n",
       "</table>\n",
       "<p>... (3 rows omitted)</p>"
      ],
      "text/plain": [
       "Date       | AverageTemperature | AverageTemperatureUncertainty | City    | Country       | Latitude | Longitude\n",
       "2000-12-01 | -3.761             | 0.367                         | Chicago | United States | 42.59N   | 87.27W\n",
       "2001-12-01 | 5.401              | 0.317                         | Chicago | United States | 42.59N   | 87.27W\n",
       "2002-12-01 | 2.835              | 0.48                          | Chicago | United States | 42.59N   | 87.27W\n",
       "2003-12-01 | 4.154              | 0.312                         | Chicago | United States | 42.59N   | 87.27W\n",
       "2004-12-01 | 2.157              | 0.242                         | Chicago | United States | 42.59N   | 87.27W\n",
       "2005-12-01 | -0.147             | 0.177                         | Chicago | United States | 42.59N   | 87.27W\n",
       "2006-12-01 | 5.132              | 0.162                         | Chicago | United States | 42.59N   | 87.27W\n",
       "2007-12-01 | 1.526              | 0.266                         | Chicago | United States | 42.59N   | 87.27W\n",
       "2008-12-01 | -0.664             | 0.374                         | Chicago | United States | 42.59N   | 87.27W\n",
       "2009-12-01 | 1.563              | 0.348                         | Chicago | United States | 42.59N   | 87.27W\n",
       "... (3 rows omitted)"
      ]
     },
     "execution_count": 92,
     "metadata": {},
     "output_type": "execute_result"
    }
   ],
   "source": [
    "#printing out new graph\n",
    "chicagorelabel"
   ]
  },
  {
   "cell_type": "code",
   "execution_count": 256,
   "metadata": {},
   "outputs": [
    {
     "data": {
      "text/html": [
       "<table border=\"1\" class=\"dataframe\">\n",
       "    <thead>\n",
       "        <tr>\n",
       "            <th>Date</th> <th>AverageTemperature</th> <th>City</th> <th>Country</th>\n",
       "        </tr>\n",
       "    </thead>\n",
       "    <tbody>\n",
       "        <tr>\n",
       "            <td>2000-12-01</td> <td>-3.761            </td> <td>Chicago</td> <td>United States</td>\n",
       "        </tr>\n",
       "        <tr>\n",
       "            <td>2001-12-01</td> <td>5.401             </td> <td>Chicago</td> <td>United States</td>\n",
       "        </tr>\n",
       "        <tr>\n",
       "            <td>2002-12-01</td> <td>2.835             </td> <td>Chicago</td> <td>United States</td>\n",
       "        </tr>\n",
       "        <tr>\n",
       "            <td>2003-12-01</td> <td>4.154             </td> <td>Chicago</td> <td>United States</td>\n",
       "        </tr>\n",
       "        <tr>\n",
       "            <td>2004-12-01</td> <td>2.157             </td> <td>Chicago</td> <td>United States</td>\n",
       "        </tr>\n",
       "        <tr>\n",
       "            <td>2005-12-01</td> <td>-0.147            </td> <td>Chicago</td> <td>United States</td>\n",
       "        </tr>\n",
       "        <tr>\n",
       "            <td>2006-12-01</td> <td>5.132             </td> <td>Chicago</td> <td>United States</td>\n",
       "        </tr>\n",
       "        <tr>\n",
       "            <td>2007-12-01</td> <td>1.526             </td> <td>Chicago</td> <td>United States</td>\n",
       "        </tr>\n",
       "        <tr>\n",
       "            <td>2008-12-01</td> <td>-0.664            </td> <td>Chicago</td> <td>United States</td>\n",
       "        </tr>\n",
       "        <tr>\n",
       "            <td>2009-12-01</td> <td>1.563             </td> <td>Chicago</td> <td>United States</td>\n",
       "        </tr>\n",
       "    </tbody>\n",
       "</table>\n",
       "<p>... (3 rows omitted)</p>"
      ],
      "text/plain": [
       "Date       | AverageTemperature | City    | Country\n",
       "2000-12-01 | -3.761             | Chicago | United States\n",
       "2001-12-01 | 5.401              | Chicago | United States\n",
       "2002-12-01 | 2.835              | Chicago | United States\n",
       "2003-12-01 | 4.154              | Chicago | United States\n",
       "2004-12-01 | 2.157              | Chicago | United States\n",
       "2005-12-01 | -0.147             | Chicago | United States\n",
       "2006-12-01 | 5.132              | Chicago | United States\n",
       "2007-12-01 | 1.526              | Chicago | United States\n",
       "2008-12-01 | -0.664             | Chicago | United States\n",
       "2009-12-01 | 1.563              | Chicago | United States\n",
       "... (3 rows omitted)"
      ]
     },
     "execution_count": 256,
     "metadata": {},
     "output_type": "execute_result"
    }
   ],
   "source": [
    "#cutting out unnecessary columns\n",
    "decembertemps = chicagorelabel.select('Date', 'AverageTemperature', 'City', 'Country')\n",
    "#printing out new table\n",
    "decembertemps"
   ]
  },
  {
   "cell_type": "code",
   "execution_count": 96,
   "metadata": {},
   "outputs": [
    {
     "data": {
      "text/plain": [
       "([<matplotlib.axis.XTick at 0x1a2d6c35c0>,\n",
       "  <matplotlib.axis.XTick at 0x1a1b1562e8>,\n",
       "  <matplotlib.axis.XTick at 0x1a1b5af5c0>,\n",
       "  <matplotlib.axis.XTick at 0x1a2d6dbe10>,\n",
       "  <matplotlib.axis.XTick at 0x1a2d6d33c8>,\n",
       "  <matplotlib.axis.XTick at 0x1a2d6d3828>,\n",
       "  <matplotlib.axis.XTick at 0x1a2d6d3cf8>,\n",
       "  <matplotlib.axis.XTick at 0x1a2d6e4240>,\n",
       "  <matplotlib.axis.XTick at 0x1a2d6e46d8>,\n",
       "  <matplotlib.axis.XTick at 0x1a2d6e4be0>,\n",
       "  <matplotlib.axis.XTick at 0x1a2d6d3748>,\n",
       "  <matplotlib.axis.XTick at 0x1a2d6e45f8>,\n",
       "  <matplotlib.axis.XTick at 0x1a2d6ee2e8>],\n",
       " <a list of 13 Text xticklabel objects>)"
      ]
     },
     "execution_count": 96,
     "metadata": {},
     "output_type": "execute_result"
    },
    {
     "data": {
      "image/png": "[encoded data removed]",
      "text/plain": [
       "<Figure size 432x288 with 1 Axes>"
      ]
     },
     "metadata": {},
     "output_type": "display_data"
    }
   ],
   "source": [
    "#creating a line plot of the average decemeber temps\n",
    "#observing if the average temperatures increase throughout the years, which would support the claim that the global temperature is increasing\n",
    "x = decembertemps.column('Date')\n",
    "figure = Table().with_columns(\n",
    "    'Chicago December 1st', decembertemps.column('Date'),\n",
    "    'Average Temperature in Celsius', decembertemps.column('AverageTemperature'),\n",
    ").plot('Chicago December 1st')\n",
    "labels = ['2000', '2001', '2002', '2003','2004','2005','2006','2007','2008','2009','2010','2011','2012','2013']\n",
    "plots.xticks(x, labels, rotation='vertical')\n"
   ]
  },
  {
   "cell_type": "code",
   "execution_count": 253,
   "metadata": {},
   "outputs": [
    {
     "data": {
      "text/html": [
       "<table border=\"1\" class=\"dataframe\">\n",
       "    <thead>\n",
       "        <tr>\n",
       "            <th>year</th> <th>Chi december temps.</th>\n",
       "        </tr>\n",
       "    </thead>\n",
       "    <tbody>\n",
       "        <tr>\n",
       "            <td>2000</td> <td>-3.761             </td>\n",
       "        </tr>\n",
       "        <tr>\n",
       "            <td>2001</td> <td>5.401              </td>\n",
       "        </tr>\n",
       "        <tr>\n",
       "            <td>2002</td> <td>2.835              </td>\n",
       "        </tr>\n",
       "        <tr>\n",
       "            <td>2003</td> <td>4.154              </td>\n",
       "        </tr>\n",
       "        <tr>\n",
       "            <td>2004</td> <td>2.157              </td>\n",
       "        </tr>\n",
       "        <tr>\n",
       "            <td>2005</td> <td>-0.147             </td>\n",
       "        </tr>\n",
       "        <tr>\n",
       "            <td>2006</td> <td>5.132              </td>\n",
       "        </tr>\n",
       "        <tr>\n",
       "            <td>2007</td> <td>1.526              </td>\n",
       "        </tr>\n",
       "        <tr>\n",
       "            <td>2008</td> <td>-0.664             </td>\n",
       "        </tr>\n",
       "        <tr>\n",
       "            <td>2009</td> <td>1.563              </td>\n",
       "        </tr>\n",
       "    </tbody>\n",
       "</table>\n",
       "<p>... (3 rows omitted)</p>"
      ],
      "text/plain": [
       "year | Chi december temps.\n",
       "2000 | -3.761\n",
       "2001 | 5.401\n",
       "2002 | 2.835\n",
       "2003 | 4.154\n",
       "2004 | 2.157\n",
       "2005 | -0.147\n",
       "2006 | 5.132\n",
       "2007 | 1.526\n",
       "2008 | -0.664\n",
       "2009 | 1.563\n",
       "... (3 rows omitted)"
      ]
     },
     "execution_count": 253,
     "metadata": {},
     "output_type": "execute_result"
    }
   ],
   "source": [
    "years = [2000, 2001, 2002, 2003, 2004, 2005, 2006, 2007, 2008, 2009, 2010, 2011, 2012]\n",
    "dectemps = chicagorelabel.column(\"AverageTemperature\")\n",
    "decCHI = Table().with_columns(\"year\", years, \"Chi december temps.\", dectemps)\n",
    "decCHI"
   ]
  },
  {
   "cell_type": "code",
   "execution_count": 216,
   "metadata": {},
   "outputs": [],
   "source": [
    "#CHICAGO SUMMER TABLES\n",
    "chicagosummer = Table.read_table(\"summertemps.csv\")"
   ]
  },
  {
   "cell_type": "code",
   "execution_count": 217,
   "metadata": {},
   "outputs": [],
   "source": [
    "chisummerrelabel = chicagosummer.relabel(\"dt\", \"Date\")"
   ]
  },
  {
   "cell_type": "code",
   "execution_count": 218,
   "metadata": {},
   "outputs": [
    {
     "data": {
      "text/html": [
       "<table border=\"1\" class=\"dataframe\">\n",
       "    <thead>\n",
       "        <tr>\n",
       "            <th>Date</th> <th>AverageTemperature</th> <th>AverageTemperatureUncertainty</th> <th>City</th> <th>Country</th> <th>Latitude</th> <th>Longitude</th>\n",
       "        </tr>\n",
       "    </thead>\n",
       "    <tbody>\n",
       "        <tr>\n",
       "            <td>1750-07-01</td> <td>23.713            </td> <td>1.699                        </td> <td>Chicago</td> <td>United States</td> <td>42.59N  </td> <td>87.27W   </td>\n",
       "        </tr>\n",
       "        <tr>\n",
       "            <td>1775-07-01</td> <td>22.009            </td> <td>1.374                        </td> <td>Chicago</td> <td>United States</td> <td>42.59N  </td> <td>87.27W   </td>\n",
       "        </tr>\n",
       "        <tr>\n",
       "            <td>1800-07-01</td> <td>22.207            </td> <td>2.077                        </td> <td>Chicago</td> <td>United States</td> <td>42.59N  </td> <td>87.27W   </td>\n",
       "        </tr>\n",
       "        <tr>\n",
       "            <td>1825-07-01</td> <td>23.267            </td> <td>2.881                        </td> <td>Chicago</td> <td>United States</td> <td>42.59N  </td> <td>87.27W   </td>\n",
       "        </tr>\n",
       "        <tr>\n",
       "            <td>1850-07-01</td> <td>23.415            </td> <td>1.457                        </td> <td>Chicago</td> <td>United States</td> <td>42.59N  </td> <td>87.27W   </td>\n",
       "        </tr>\n",
       "        <tr>\n",
       "            <td>1875-07-01</td> <td>20.765            </td> <td>1.059                        </td> <td>Chicago</td> <td>United States</td> <td>42.59N  </td> <td>87.27W   </td>\n",
       "        </tr>\n",
       "        <tr>\n",
       "            <td>1900-07-01</td> <td>21.291            </td> <td>0.736                        </td> <td>Chicago</td> <td>United States</td> <td>42.59N  </td> <td>87.27W   </td>\n",
       "        </tr>\n",
       "        <tr>\n",
       "            <td>1925-07-01</td> <td>21.224            </td> <td>0.194                        </td> <td>Chicago</td> <td>United States</td> <td>42.59N  </td> <td>87.27W   </td>\n",
       "        </tr>\n",
       "        <tr>\n",
       "            <td>1950-07-01</td> <td>20.247            </td> <td>0.229                        </td> <td>Chicago</td> <td>United States</td> <td>42.59N  </td> <td>87.27W   </td>\n",
       "        </tr>\n",
       "        <tr>\n",
       "            <td>1975-07-01</td> <td>22.069            </td> <td>0.274                        </td> <td>Chicago</td> <td>United States</td> <td>42.59N  </td> <td>87.27W   </td>\n",
       "        </tr>\n",
       "    </tbody>\n",
       "</table>\n",
       "<p>... (2 rows omitted)</p>"
      ],
      "text/plain": [
       "Date       | AverageTemperature | AverageTemperatureUncertainty | City    | Country       | Latitude | Longitude\n",
       "1750-07-01 | 23.713             | 1.699                         | Chicago | United States | 42.59N   | 87.27W\n",
       "1775-07-01 | 22.009             | 1.374                         | Chicago | United States | 42.59N   | 87.27W\n",
       "1800-07-01 | 22.207             | 2.077                         | Chicago | United States | 42.59N   | 87.27W\n",
       "1825-07-01 | 23.267             | 2.881                         | Chicago | United States | 42.59N   | 87.27W\n",
       "1850-07-01 | 23.415             | 1.457                         | Chicago | United States | 42.59N   | 87.27W\n",
       "1875-07-01 | 20.765             | 1.059                         | Chicago | United States | 42.59N   | 87.27W\n",
       "1900-07-01 | 21.291             | 0.736                         | Chicago | United States | 42.59N   | 87.27W\n",
       "1925-07-01 | 21.224             | 0.194                         | Chicago | United States | 42.59N   | 87.27W\n",
       "1950-07-01 | 20.247             | 0.229                         | Chicago | United States | 42.59N   | 87.27W\n",
       "1975-07-01 | 22.069             | 0.274                         | Chicago | United States | 42.59N   | 87.27W\n",
       "... (2 rows omitted)"
      ]
     },
     "execution_count": 218,
     "metadata": {},
     "output_type": "execute_result"
    }
   ],
   "source": [
    "chisummerrelabel"
   ]
  },
  {
   "cell_type": "code",
   "execution_count": 219,
   "metadata": {},
   "outputs": [],
   "source": [
    "chisummertemps = chisummerrelabel.select('Date','AverageTemperature','City','Country')"
   ]
  },
  {
   "cell_type": "code",
   "execution_count": 220,
   "metadata": {},
   "outputs": [
    {
     "data": {
      "text/html": [
       "<table border=\"1\" class=\"dataframe\">\n",
       "    <thead>\n",
       "        <tr>\n",
       "            <th>Date</th> <th>AverageTemperature</th> <th>City</th> <th>Country</th>\n",
       "        </tr>\n",
       "    </thead>\n",
       "    <tbody>\n",
       "        <tr>\n",
       "            <td>1750-07-01</td> <td>23.713            </td> <td>Chicago</td> <td>United States</td>\n",
       "        </tr>\n",
       "        <tr>\n",
       "            <td>1775-07-01</td> <td>22.009            </td> <td>Chicago</td> <td>United States</td>\n",
       "        </tr>\n",
       "        <tr>\n",
       "            <td>1800-07-01</td> <td>22.207            </td> <td>Chicago</td> <td>United States</td>\n",
       "        </tr>\n",
       "        <tr>\n",
       "            <td>1825-07-01</td> <td>23.267            </td> <td>Chicago</td> <td>United States</td>\n",
       "        </tr>\n",
       "        <tr>\n",
       "            <td>1850-07-01</td> <td>23.415            </td> <td>Chicago</td> <td>United States</td>\n",
       "        </tr>\n",
       "        <tr>\n",
       "            <td>1875-07-01</td> <td>20.765            </td> <td>Chicago</td> <td>United States</td>\n",
       "        </tr>\n",
       "        <tr>\n",
       "            <td>1900-07-01</td> <td>21.291            </td> <td>Chicago</td> <td>United States</td>\n",
       "        </tr>\n",
       "        <tr>\n",
       "            <td>1925-07-01</td> <td>21.224            </td> <td>Chicago</td> <td>United States</td>\n",
       "        </tr>\n",
       "        <tr>\n",
       "            <td>1950-07-01</td> <td>20.247            </td> <td>Chicago</td> <td>United States</td>\n",
       "        </tr>\n",
       "        <tr>\n",
       "            <td>1975-07-01</td> <td>22.069            </td> <td>Chicago</td> <td>United States</td>\n",
       "        </tr>\n",
       "    </tbody>\n",
       "</table>\n",
       "<p>... (2 rows omitted)</p>"
      ],
      "text/plain": [
       "Date       | AverageTemperature | City    | Country\n",
       "1750-07-01 | 23.713             | Chicago | United States\n",
       "1775-07-01 | 22.009             | Chicago | United States\n",
       "1800-07-01 | 22.207             | Chicago | United States\n",
       "1825-07-01 | 23.267             | Chicago | United States\n",
       "1850-07-01 | 23.415             | Chicago | United States\n",
       "1875-07-01 | 20.765             | Chicago | United States\n",
       "1900-07-01 | 21.291             | Chicago | United States\n",
       "1925-07-01 | 21.224             | Chicago | United States\n",
       "1950-07-01 | 20.247             | Chicago | United States\n",
       "1975-07-01 | 22.069             | Chicago | United States\n",
       "... (2 rows omitted)"
      ]
     },
     "execution_count": 220,
     "metadata": {},
     "output_type": "execute_result"
    }
   ],
   "source": [
    "chisummertemps"
   ]
  },
  {
   "cell_type": "code",
   "execution_count": 277,
   "metadata": {},
   "outputs": [
    {
     "data": {
      "text/plain": [
       "([<matplotlib.axis.XTick at 0x1a2e7faef0>,\n",
       "  <matplotlib.axis.XTick at 0x1a2e7e60b8>,\n",
       "  <matplotlib.axis.XTick at 0x1a2e5dec88>,\n",
       "  <matplotlib.axis.XTick at 0x1a2e823668>,\n",
       "  <matplotlib.axis.XTick at 0x1a2e823b38>,\n",
       "  <matplotlib.axis.XTick at 0x1a2e823e48>,\n",
       "  <matplotlib.axis.XTick at 0x1a2e82c518>,\n",
       "  <matplotlib.axis.XTick at 0x1a2e823898>,\n",
       "  <matplotlib.axis.XTick at 0x1a2e82c978>,\n",
       "  <matplotlib.axis.XTick at 0x1a2e82ce48>,\n",
       "  <matplotlib.axis.XTick at 0x1a2e834358>,\n",
       "  <matplotlib.axis.XTick at 0x1a2e834828>],\n",
       " <a list of 12 Text xticklabel objects>)"
      ]
     },
     "execution_count": 277,
     "metadata": {},
     "output_type": "execute_result"
    },
    {
     "data": {
      "image/png": "[encoded data removed]",
      "text/plain": [
       "<Figure size 432x288 with 1 Axes>"
      ]
     },
     "metadata": {},
     "output_type": "display_data"
    }
   ],
   "source": [
    "x = chisummertemps.column('Date')\n",
    "figure = Table().with_columns(\n",
    "    'Summer Temperatures Chicago', chisummertemps.column('Date'),\n",
    "    'Average Temperature in Celsius', chisummertemps.column('AverageTemperature'),\n",
    ").plot('Summer Temperatures Chicago')\n",
    "labels = ['1750','1775', '1800','1825','1850','1875', '1900','1925','1950','1975','2000','2013']\n",
    "plots.xticks(x, labels, rotation='vertical')"
   ]
  },
  {
   "cell_type": "code",
   "execution_count": 240,
   "metadata": {},
   "outputs": [],
   "source": [
    "year = [1750, 1775, 1800, 1825, 1850, 1875, 1900, 1925, 1950, 1975, 2000, 2013]"
   ]
  },
  {
   "cell_type": "code",
   "execution_count": 241,
   "metadata": {},
   "outputs": [],
   "source": [
    "Chicagojuly = Table().with_column(\"year\", year)"
   ]
  },
  {
   "cell_type": "code",
   "execution_count": 242,
   "metadata": {},
   "outputs": [],
   "source": [
    "avechiJuly = summertemps.column(\"AverageTemperature\")"
   ]
  },
  {
   "cell_type": "code",
   "execution_count": 247,
   "metadata": {},
   "outputs": [],
   "source": [
    "Chicagojuly = Table().with_column(\"year\", year, \"Chicago AverageTemperature\", avechiJuly)"
   ]
  },
  {
   "cell_type": "code",
   "execution_count": 248,
   "metadata": {},
   "outputs": [
    {
     "data": {
      "text/html": [
       "<table border=\"1\" class=\"dataframe\">\n",
       "    <thead>\n",
       "        <tr>\n",
       "            <th>year</th> <th>Chicago AverageTemperature</th>\n",
       "        </tr>\n",
       "    </thead>\n",
       "    <tbody>\n",
       "        <tr>\n",
       "            <td>1750</td> <td>23.713                    </td>\n",
       "        </tr>\n",
       "        <tr>\n",
       "            <td>1775</td> <td>22.009                    </td>\n",
       "        </tr>\n",
       "        <tr>\n",
       "            <td>1800</td> <td>22.207                    </td>\n",
       "        </tr>\n",
       "        <tr>\n",
       "            <td>1825</td> <td>23.267                    </td>\n",
       "        </tr>\n",
       "        <tr>\n",
       "            <td>1850</td> <td>23.415                    </td>\n",
       "        </tr>\n",
       "        <tr>\n",
       "            <td>1875</td> <td>20.765                    </td>\n",
       "        </tr>\n",
       "        <tr>\n",
       "            <td>1900</td> <td>21.291                    </td>\n",
       "        </tr>\n",
       "        <tr>\n",
       "            <td>1925</td> <td>21.224                    </td>\n",
       "        </tr>\n",
       "        <tr>\n",
       "            <td>1950</td> <td>20.247                    </td>\n",
       "        </tr>\n",
       "        <tr>\n",
       "            <td>1975</td> <td>22.069                    </td>\n",
       "        </tr>\n",
       "    </tbody>\n",
       "</table>\n",
       "<p>... (2 rows omitted)</p>"
      ],
      "text/plain": [
       "year | Chicago AverageTemperature\n",
       "1750 | 23.713\n",
       "1775 | 22.009\n",
       "1800 | 22.207\n",
       "1825 | 23.267\n",
       "1850 | 23.415\n",
       "1875 | 20.765\n",
       "1900 | 21.291\n",
       "1925 | 21.224\n",
       "1950 | 20.247\n",
       "1975 | 22.069\n",
       "... (2 rows omitted)"
      ]
     },
     "execution_count": 248,
     "metadata": {},
     "output_type": "execute_result"
    }
   ],
   "source": [
    "Chicagojuly"
   ]
  },
  {
   "cell_type": "code",
   "execution_count": 225,
   "metadata": {},
   "outputs": [
    {
     "data": {
      "text/html": [
       "<table border=\"1\" class=\"dataframe\">\n",
       "    <thead>\n",
       "        <tr>\n",
       "            <th>dt</th> <th>AverageTemperature</th> <th>AverageTemperatureUncertainty</th> <th>City</th> <th>Country</th> <th>Latitude</th> <th>Longitude</th>\n",
       "        </tr>\n",
       "    </thead>\n",
       "    <tbody>\n",
       "        <tr>\n",
       "            <td>1750-07-01</td> <td>24.203            </td> <td>1.086                        </td> <td>New York</td> <td>United States</td> <td>40.99N  </td> <td>74.56W   </td>\n",
       "        </tr>\n",
       "        <tr>\n",
       "            <td>1775-07-01</td> <td>22.648            </td> <td>1.655                        </td> <td>New York</td> <td>United States</td> <td>40.99N  </td> <td>74.56W   </td>\n",
       "        </tr>\n",
       "        <tr>\n",
       "            <td>1800-07-01</td> <td>23.297            </td> <td>2.179                        </td> <td>New York</td> <td>United States</td> <td>40.99N  </td> <td>74.56W   </td>\n",
       "        </tr>\n",
       "        <tr>\n",
       "            <td>1825-07-01</td> <td>24.576            </td> <td>3.173                        </td> <td>New York</td> <td>United States</td> <td>40.99N  </td> <td>74.56W   </td>\n",
       "        </tr>\n",
       "        <tr>\n",
       "            <td>1850-07-01</td> <td>22.421            </td> <td>0.736                        </td> <td>New York</td> <td>United States</td> <td>40.99N  </td> <td>74.56W   </td>\n",
       "        </tr>\n",
       "        <tr>\n",
       "            <td>1875-07-01</td> <td>21.869            </td> <td>0.601                        </td> <td>New York</td> <td>United States</td> <td>40.99N  </td> <td>74.56W   </td>\n",
       "        </tr>\n",
       "        <tr>\n",
       "            <td>1900-07-01</td> <td>23.409            </td> <td>0.515                        </td> <td>New York</td> <td>United States</td> <td>40.99N  </td> <td>74.56W   </td>\n",
       "        </tr>\n",
       "        <tr>\n",
       "            <td>1925-07-01</td> <td>21.223            </td> <td>0.198                        </td> <td>New York</td> <td>United States</td> <td>40.99N  </td> <td>74.56W   </td>\n",
       "        </tr>\n",
       "        <tr>\n",
       "            <td>1950-07-01</td> <td>21.613            </td> <td>0.133                        </td> <td>New York</td> <td>United States</td> <td>40.99N  </td> <td>74.56W   </td>\n",
       "        </tr>\n",
       "        <tr>\n",
       "            <td>1975-07-01</td> <td>22.781            </td> <td>0.426                        </td> <td>New York</td> <td>United States</td> <td>40.99N  </td> <td>74.56W   </td>\n",
       "        </tr>\n",
       "    </tbody>\n",
       "</table>\n",
       "<p>... (2 rows omitted)</p>"
      ],
      "text/plain": [
       "dt         | AverageTemperature | AverageTemperatureUncertainty | City     | Country       | Latitude | Longitude\n",
       "1750-07-01 | 24.203             | 1.086                         | New York | United States | 40.99N   | 74.56W\n",
       "1775-07-01 | 22.648             | 1.655                         | New York | United States | 40.99N   | 74.56W\n",
       "1800-07-01 | 23.297             | 2.179                         | New York | United States | 40.99N   | 74.56W\n",
       "1825-07-01 | 24.576             | 3.173                         | New York | United States | 40.99N   | 74.56W\n",
       "1850-07-01 | 22.421             | 0.736                         | New York | United States | 40.99N   | 74.56W\n",
       "1875-07-01 | 21.869             | 0.601                         | New York | United States | 40.99N   | 74.56W\n",
       "1900-07-01 | 23.409             | 0.515                         | New York | United States | 40.99N   | 74.56W\n",
       "1925-07-01 | 21.223             | 0.198                         | New York | United States | 40.99N   | 74.56W\n",
       "1950-07-01 | 21.613             | 0.133                         | New York | United States | 40.99N   | 74.56W\n",
       "1975-07-01 | 22.781             | 0.426                         | New York | United States | 40.99N   | 74.56W\n",
       "... (2 rows omitted)"
      ]
     },
     "execution_count": 225,
     "metadata": {},
     "output_type": "execute_result"
    }
   ],
   "source": [
    "#NY SUMMER\n",
    "nysummer = Table().read_table('summertempsny.csv')\n",
    "nysummer"
   ]
  },
  {
   "cell_type": "code",
   "execution_count": 226,
   "metadata": {},
   "outputs": [
    {
     "data": {
      "text/html": [
       "<table border=\"1\" class=\"dataframe\">\n",
       "    <thead>\n",
       "        <tr>\n",
       "            <th>Date</th> <th>AverageTemperature</th> <th>AverageTemperatureUncertainty</th> <th>City</th> <th>Country</th> <th>Latitude</th> <th>Longitude</th>\n",
       "        </tr>\n",
       "    </thead>\n",
       "    <tbody>\n",
       "        <tr>\n",
       "            <td>1750-07-01</td> <td>24.203            </td> <td>1.086                        </td> <td>New York</td> <td>United States</td> <td>40.99N  </td> <td>74.56W   </td>\n",
       "        </tr>\n",
       "        <tr>\n",
       "            <td>1775-07-01</td> <td>22.648            </td> <td>1.655                        </td> <td>New York</td> <td>United States</td> <td>40.99N  </td> <td>74.56W   </td>\n",
       "        </tr>\n",
       "        <tr>\n",
       "            <td>1800-07-01</td> <td>23.297            </td> <td>2.179                        </td> <td>New York</td> <td>United States</td> <td>40.99N  </td> <td>74.56W   </td>\n",
       "        </tr>\n",
       "        <tr>\n",
       "            <td>1825-07-01</td> <td>24.576            </td> <td>3.173                        </td> <td>New York</td> <td>United States</td> <td>40.99N  </td> <td>74.56W   </td>\n",
       "        </tr>\n",
       "        <tr>\n",
       "            <td>1850-07-01</td> <td>22.421            </td> <td>0.736                        </td> <td>New York</td> <td>United States</td> <td>40.99N  </td> <td>74.56W   </td>\n",
       "        </tr>\n",
       "        <tr>\n",
       "            <td>1875-07-01</td> <td>21.869            </td> <td>0.601                        </td> <td>New York</td> <td>United States</td> <td>40.99N  </td> <td>74.56W   </td>\n",
       "        </tr>\n",
       "        <tr>\n",
       "            <td>1900-07-01</td> <td>23.409            </td> <td>0.515                        </td> <td>New York</td> <td>United States</td> <td>40.99N  </td> <td>74.56W   </td>\n",
       "        </tr>\n",
       "        <tr>\n",
       "            <td>1925-07-01</td> <td>21.223            </td> <td>0.198                        </td> <td>New York</td> <td>United States</td> <td>40.99N  </td> <td>74.56W   </td>\n",
       "        </tr>\n",
       "        <tr>\n",
       "            <td>1950-07-01</td> <td>21.613            </td> <td>0.133                        </td> <td>New York</td> <td>United States</td> <td>40.99N  </td> <td>74.56W   </td>\n",
       "        </tr>\n",
       "        <tr>\n",
       "            <td>1975-07-01</td> <td>22.781            </td> <td>0.426                        </td> <td>New York</td> <td>United States</td> <td>40.99N  </td> <td>74.56W   </td>\n",
       "        </tr>\n",
       "    </tbody>\n",
       "</table>\n",
       "<p>... (2 rows omitted)</p>"
      ],
      "text/plain": [
       "Date       | AverageTemperature | AverageTemperatureUncertainty | City     | Country       | Latitude | Longitude\n",
       "1750-07-01 | 24.203             | 1.086                         | New York | United States | 40.99N   | 74.56W\n",
       "1775-07-01 | 22.648             | 1.655                         | New York | United States | 40.99N   | 74.56W\n",
       "1800-07-01 | 23.297             | 2.179                         | New York | United States | 40.99N   | 74.56W\n",
       "1825-07-01 | 24.576             | 3.173                         | New York | United States | 40.99N   | 74.56W\n",
       "1850-07-01 | 22.421             | 0.736                         | New York | United States | 40.99N   | 74.56W\n",
       "1875-07-01 | 21.869             | 0.601                         | New York | United States | 40.99N   | 74.56W\n",
       "1900-07-01 | 23.409             | 0.515                         | New York | United States | 40.99N   | 74.56W\n",
       "1925-07-01 | 21.223             | 0.198                         | New York | United States | 40.99N   | 74.56W\n",
       "1950-07-01 | 21.613             | 0.133                         | New York | United States | 40.99N   | 74.56W\n",
       "1975-07-01 | 22.781             | 0.426                         | New York | United States | 40.99N   | 74.56W\n",
       "... (2 rows omitted)"
      ]
     },
     "execution_count": 226,
     "metadata": {},
     "output_type": "execute_result"
    }
   ],
   "source": [
    "NYsummerrelabel = nysummer.relabel(\"dt\", \"Date\")\n",
    "NYsummerrelabel"
   ]
  },
  {
   "cell_type": "code",
   "execution_count": 229,
   "metadata": {},
   "outputs": [
    {
     "data": {
      "text/html": [
       "<table border=\"1\" class=\"dataframe\">\n",
       "    <thead>\n",
       "        <tr>\n",
       "            <th>Date</th> <th>AverageTemperature</th> <th>City</th> <th>Country</th>\n",
       "        </tr>\n",
       "    </thead>\n",
       "    <tbody>\n",
       "        <tr>\n",
       "            <td>1750-07-01</td> <td>24.203            </td> <td>New York</td> <td>United States</td>\n",
       "        </tr>\n",
       "        <tr>\n",
       "            <td>1775-07-01</td> <td>22.648            </td> <td>New York</td> <td>United States</td>\n",
       "        </tr>\n",
       "        <tr>\n",
       "            <td>1800-07-01</td> <td>23.297            </td> <td>New York</td> <td>United States</td>\n",
       "        </tr>\n",
       "        <tr>\n",
       "            <td>1825-07-01</td> <td>24.576            </td> <td>New York</td> <td>United States</td>\n",
       "        </tr>\n",
       "        <tr>\n",
       "            <td>1850-07-01</td> <td>22.421            </td> <td>New York</td> <td>United States</td>\n",
       "        </tr>\n",
       "        <tr>\n",
       "            <td>1875-07-01</td> <td>21.869            </td> <td>New York</td> <td>United States</td>\n",
       "        </tr>\n",
       "        <tr>\n",
       "            <td>1900-07-01</td> <td>23.409            </td> <td>New York</td> <td>United States</td>\n",
       "        </tr>\n",
       "        <tr>\n",
       "            <td>1925-07-01</td> <td>21.223            </td> <td>New York</td> <td>United States</td>\n",
       "        </tr>\n",
       "        <tr>\n",
       "            <td>1950-07-01</td> <td>21.613            </td> <td>New York</td> <td>United States</td>\n",
       "        </tr>\n",
       "        <tr>\n",
       "            <td>1975-07-01</td> <td>22.781            </td> <td>New York</td> <td>United States</td>\n",
       "        </tr>\n",
       "    </tbody>\n",
       "</table>\n",
       "<p>... (2 rows omitted)</p>"
      ],
      "text/plain": [
       "Date       | AverageTemperature | City     | Country\n",
       "1750-07-01 | 24.203             | New York | United States\n",
       "1775-07-01 | 22.648             | New York | United States\n",
       "1800-07-01 | 23.297             | New York | United States\n",
       "1825-07-01 | 24.576             | New York | United States\n",
       "1850-07-01 | 22.421             | New York | United States\n",
       "1875-07-01 | 21.869             | New York | United States\n",
       "1900-07-01 | 23.409             | New York | United States\n",
       "1925-07-01 | 21.223             | New York | United States\n",
       "1950-07-01 | 21.613             | New York | United States\n",
       "1975-07-01 | 22.781             | New York | United States\n",
       "... (2 rows omitted)"
      ]
     },
     "execution_count": 229,
     "metadata": {},
     "output_type": "execute_result"
    }
   ],
   "source": [
    "NYCsummertemps = NYsummerrelabel.select('Date','AverageTemperature','City','Country')\n",
    "NYCsummertemps"
   ]
  },
  {
   "cell_type": "code",
   "execution_count": 230,
   "metadata": {},
   "outputs": [
    {
     "data": {
      "text/plain": [
       "([<matplotlib.axis.XTick at 0x1a2e6f7668>,\n",
       "  <matplotlib.axis.XTick at 0x1a2e6edf28>,\n",
       "  <matplotlib.axis.XTick at 0x1a2e6e14a8>,\n",
       "  <matplotlib.axis.XTick at 0x1a2e710d30>,\n",
       "  <matplotlib.axis.XTick at 0x1a2e717278>,\n",
       "  <matplotlib.axis.XTick at 0x1a2e717780>,\n",
       "  <matplotlib.axis.XTick at 0x1a2e717cc0>,\n",
       "  <matplotlib.axis.XTick at 0x1a2e717860>,\n",
       "  <matplotlib.axis.XTick at 0x1a2e7172e8>,\n",
       "  <matplotlib.axis.XTick at 0x1a2e71f780>,\n",
       "  <matplotlib.axis.XTick at 0x1a2e71fcc0>,\n",
       "  <matplotlib.axis.XTick at 0x1a2e728278>],\n",
       " <a list of 12 Text xticklabel objects>)"
      ]
     },
     "execution_count": 230,
     "metadata": {},
     "output_type": "execute_result"
    },
    {
     "data": {
      "image/png": "[encoded data removed]",
      "text/plain": [
       "<Figure size 432x288 with 1 Axes>"
      ]
     },
     "metadata": {},
     "output_type": "display_data"
    }
   ],
   "source": [
    "x = NYCsummertemps.column('Date')\n",
    "figure = Table().with_columns(\n",
    "    'Summer Temperatures NYC', NYCsummertemps.column('Date'),\n",
    "    'Average Temperature in Celsius', NYCsummertemps.column('AverageTemperature'),\n",
    ").plot('Summer Temperatures NYC')\n",
    "labels = ['1750','1775', '1800','1825','1850','1875', '1900','1925','1950','1975','2000','2013']\n",
    "plots.xticks(x, labels, rotation='vertical')"
   ]
  },
  {
   "cell_type": "code",
   "execution_count": 264,
   "metadata": {},
   "outputs": [
    {
     "data": {
      "text/html": [
       "<table border=\"1\" class=\"dataframe\">\n",
       "    <thead>\n",
       "        <tr>\n",
       "            <th>year</th> <th>NYC AverageTemperature</th>\n",
       "        </tr>\n",
       "    </thead>\n",
       "    <tbody>\n",
       "        <tr>\n",
       "            <td>1750</td> <td>24.203                </td>\n",
       "        </tr>\n",
       "        <tr>\n",
       "            <td>1775</td> <td>22.648                </td>\n",
       "        </tr>\n",
       "        <tr>\n",
       "            <td>1800</td> <td>23.297                </td>\n",
       "        </tr>\n",
       "        <tr>\n",
       "            <td>1825</td> <td>24.576                </td>\n",
       "        </tr>\n",
       "        <tr>\n",
       "            <td>1850</td> <td>22.421                </td>\n",
       "        </tr>\n",
       "        <tr>\n",
       "            <td>1875</td> <td>21.869                </td>\n",
       "        </tr>\n",
       "        <tr>\n",
       "            <td>1900</td> <td>23.409                </td>\n",
       "        </tr>\n",
       "        <tr>\n",
       "            <td>1925</td> <td>21.223                </td>\n",
       "        </tr>\n",
       "        <tr>\n",
       "            <td>1950</td> <td>21.613                </td>\n",
       "        </tr>\n",
       "        <tr>\n",
       "            <td>1975</td> <td>22.781                </td>\n",
       "        </tr>\n",
       "    </tbody>\n",
       "</table>\n",
       "<p>... (2 rows omitted)</p>"
      ],
      "text/plain": [
       "year | NYC AverageTemperature\n",
       "1750 | 24.203\n",
       "1775 | 22.648\n",
       "1800 | 23.297\n",
       "1825 | 24.576\n",
       "1850 | 22.421\n",
       "1875 | 21.869\n",
       "1900 | 23.409\n",
       "1925 | 21.223\n",
       "1950 | 21.613\n",
       "1975 | 22.781\n",
       "... (2 rows omitted)"
      ]
     },
     "execution_count": 264,
     "metadata": {},
     "output_type": "execute_result"
    }
   ],
   "source": [
    "year = [1750, 1775, 1800, 1825, 1850, 1875, 1900, 1925, 1950, 1975, 2000, 2013]\n",
    "NYCjuly = Table().with_column(\"year\", year)\n",
    "aveNYCJuly = NYCsummertemps.column(\"AverageTemperature\")\n",
    "NYCjuly = Table().with_column(\"year\", year, \"NYC AverageTemperature\", aveNYCJuly)\n",
    "NYCjuly"
   ]
  },
  {
   "cell_type": "code",
   "execution_count": 79,
   "metadata": {},
   "outputs": [],
   "source": [
    "#NEW YORK CITY DECEMBER TEMPS\n",
    "ny = Table.read_table(\"newyorktemps.csv\")"
   ]
  },
  {
   "cell_type": "code",
   "execution_count": 80,
   "metadata": {},
   "outputs": [],
   "source": [
    "nyrelabel = ny.relabel(\"dt\", \"Date\")"
   ]
  },
  {
   "cell_type": "code",
   "execution_count": 81,
   "metadata": {},
   "outputs": [
    {
     "data": {
      "text/html": [
       "<table border=\"1\" class=\"dataframe\">\n",
       "    <thead>\n",
       "        <tr>\n",
       "            <th>Date</th> <th>AverageTemperature</th> <th>City</th> <th>Country</th>\n",
       "        </tr>\n",
       "    </thead>\n",
       "    <tbody>\n",
       "        <tr>\n",
       "            <td>2000-12-01</td> <td>-3.356            </td> <td>New York</td> <td>United States</td>\n",
       "        </tr>\n",
       "        <tr>\n",
       "            <td>2001-12-01</td> <td>3.475             </td> <td>New York</td> <td>United States</td>\n",
       "        </tr>\n",
       "        <tr>\n",
       "            <td>2002-12-01</td> <td>-0.953            </td> <td>New York</td> <td>United States</td>\n",
       "        </tr>\n",
       "        <tr>\n",
       "            <td>2003-12-01</td> <td>0.379             </td> <td>New York</td> <td>United States</td>\n",
       "        </tr>\n",
       "        <tr>\n",
       "            <td>2004-12-01</td> <td>-0.014            </td> <td>New York</td> <td>United States</td>\n",
       "        </tr>\n",
       "        <tr>\n",
       "            <td>2005-12-01</td> <td>-1.757            </td> <td>New York</td> <td>United States</td>\n",
       "        </tr>\n",
       "        <tr>\n",
       "            <td>2006-12-01</td> <td>3.861             </td> <td>New York</td> <td>United States</td>\n",
       "        </tr>\n",
       "        <tr>\n",
       "            <td>2007-12-01</td> <td>-0.094            </td> <td>New York</td> <td>United States</td>\n",
       "        </tr>\n",
       "        <tr>\n",
       "            <td>2008-12-01</td> <td>0.327             </td> <td>New York</td> <td>United States</td>\n",
       "        </tr>\n",
       "        <tr>\n",
       "            <td>2009-12-01</td> <td>-0.624            </td> <td>New York</td> <td>United States</td>\n",
       "        </tr>\n",
       "    </tbody>\n",
       "</table>\n",
       "<p>... (3 rows omitted)</p>"
      ],
      "text/plain": [
       "Date       | AverageTemperature | City     | Country\n",
       "2000-12-01 | -3.356             | New York | United States\n",
       "2001-12-01 | 3.475              | New York | United States\n",
       "2002-12-01 | -0.953             | New York | United States\n",
       "2003-12-01 | 0.379              | New York | United States\n",
       "2004-12-01 | -0.014             | New York | United States\n",
       "2005-12-01 | -1.757             | New York | United States\n",
       "2006-12-01 | 3.861              | New York | United States\n",
       "2007-12-01 | -0.094             | New York | United States\n",
       "2008-12-01 | 0.327              | New York | United States\n",
       "2009-12-01 | -0.624             | New York | United States\n",
       "... (3 rows omitted)"
      ]
     },
     "execution_count": 81,
     "metadata": {},
     "output_type": "execute_result"
    }
   ],
   "source": [
    "nyrelabel\n",
    "newyorktemps = nyrelabel.select('Date','AverageTemperature','City','Country')\n",
    "newyorktemps"
   ]
  },
  {
   "cell_type": "code",
   "execution_count": 97,
   "metadata": {},
   "outputs": [
    {
     "data": {
      "text/plain": [
       "([<matplotlib.axis.XTick at 0x1a2d7a4940>,\n",
       "  <matplotlib.axis.XTick at 0x1a2d7a4240>,\n",
       "  <matplotlib.axis.XTick at 0x1a2d7a4128>,\n",
       "  <matplotlib.axis.XTick at 0x1a2d7c3e10>,\n",
       "  <matplotlib.axis.XTick at 0x1a2d7cc630>,\n",
       "  <matplotlib.axis.XTick at 0x1a2d7ccb70>,\n",
       "  <matplotlib.axis.XTick at 0x1a2d7cc470>,\n",
       "  <matplotlib.axis.XTick at 0x1a2d85a630>,\n",
       "  <matplotlib.axis.XTick at 0x1a2d85ab70>,\n",
       "  <matplotlib.axis.XTick at 0x1a2d85a470>,\n",
       "  <matplotlib.axis.XTick at 0x1a2d85a710>,\n",
       "  <matplotlib.axis.XTick at 0x1a2d7cc550>,\n",
       "  <matplotlib.axis.XTick at 0x1a2d862860>],\n",
       " <a list of 13 Text xticklabel objects>)"
      ]
     },
     "execution_count": 97,
     "metadata": {},
     "output_type": "execute_result"
    },
    {
     "data": {
      "image/png": "[encoded data removed]",
      "text/plain": [
       "<Figure size 432x288 with 1 Axes>"
      ]
     },
     "metadata": {},
     "output_type": "display_data"
    }
   ],
   "source": [
    "x = newyorktemps.column('Date')\n",
    "figure = Table().with_columns(\n",
    "    'NYC December 1st', newyorktemps.column('Date'),\n",
    "    'Average Temperature in Celsius', newyorktemps.column('AverageTemperature'),\n",
    ").plot('NYC December 1st')\n",
    "labels = ['2000', '2001', '2002', '2003','2004','2005','2006','2007','2008','2009','2010','2011','2012']\n",
    "plots.xticks(x, labels, rotation='vertical')"
   ]
  },
  {
   "cell_type": "code",
   "execution_count": 250,
   "metadata": {},
   "outputs": [
    {
     "data": {
      "text/html": [
       "<table border=\"1\" class=\"dataframe\">\n",
       "    <thead>\n",
       "        <tr>\n",
       "            <th>year</th> <th>NYC average temps.</th>\n",
       "        </tr>\n",
       "    </thead>\n",
       "    <tbody>\n",
       "        <tr>\n",
       "            <td>2000</td> <td>-3.356            </td>\n",
       "        </tr>\n",
       "        <tr>\n",
       "            <td>2001</td> <td>3.475             </td>\n",
       "        </tr>\n",
       "        <tr>\n",
       "            <td>2002</td> <td>-0.953            </td>\n",
       "        </tr>\n",
       "        <tr>\n",
       "            <td>2003</td> <td>0.379             </td>\n",
       "        </tr>\n",
       "        <tr>\n",
       "            <td>2004</td> <td>-0.014            </td>\n",
       "        </tr>\n",
       "        <tr>\n",
       "            <td>2005</td> <td>-1.757            </td>\n",
       "        </tr>\n",
       "        <tr>\n",
       "            <td>2006</td> <td>3.861             </td>\n",
       "        </tr>\n",
       "        <tr>\n",
       "            <td>2007</td> <td>-0.094            </td>\n",
       "        </tr>\n",
       "        <tr>\n",
       "            <td>2008</td> <td>0.327             </td>\n",
       "        </tr>\n",
       "        <tr>\n",
       "            <td>2009</td> <td>-0.624            </td>\n",
       "        </tr>\n",
       "    </tbody>\n",
       "</table>\n",
       "<p>... (3 rows omitted)</p>"
      ],
      "text/plain": [
       "year | NYC average temps.\n",
       "2000 | -3.356\n",
       "2001 | 3.475\n",
       "2002 | -0.953\n",
       "2003 | 0.379\n",
       "2004 | -0.014\n",
       "2005 | -1.757\n",
       "2006 | 3.861\n",
       "2007 | -0.094\n",
       "2008 | 0.327\n",
       "2009 | -0.624\n",
       "... (3 rows omitted)"
      ]
     },
     "execution_count": 250,
     "metadata": {},
     "output_type": "execute_result"
    }
   ],
   "source": [
    "tempsNY = newyorktemps.column(\"AverageTemperature\")\n",
    "decNY = Table().with_columns(\"year\", years, \"NYC average temps.\", tempsNY)\n",
    "decNY"
   ]
  },
  {
   "cell_type": "code",
   "execution_count": 161,
   "metadata": {},
   "outputs": [],
   "source": [
    "#COMPARING CHICAGO DECEMBER WITH NEW YORK CITY DECEMBER\n",
    "compare = decCHI.with_column(\"NYC December temps.\", tempsNY)"
   ]
  },
  {
   "cell_type": "code",
   "execution_count": 164,
   "metadata": {},
   "outputs": [],
   "source": [
    "compare = compare.sort(\"year\", descending = True)"
   ]
  },
  {
   "cell_type": "code",
   "execution_count": 165,
   "metadata": {},
   "outputs": [
    {
     "data": {
      "image/png": "[encoded data removed]",
      "text/plain": [
       "<Figure size 432x468 with 1 Axes>"
      ]
     },
     "metadata": {},
     "output_type": "display_data"
    }
   ],
   "source": [
    "compare.barh(\"year\")"
   ]
  },
  {
   "cell_type": "code",
   "execution_count": 166,
   "metadata": {},
   "outputs": [],
   "source": [
    "from scipy import stats\n"
   ]
  },
  {
   "cell_type": "code",
   "execution_count": 257,
   "metadata": {},
   "outputs": [
    {
     "name": "stderr",
     "output_type": "stream",
     "text": [
      "/anaconda3/lib/python3.6/site-packages/datascience/tables.py:192: FutureWarning: Implicit column method lookup is deprecated.\n",
      "  warnings.warn(\"Implicit column method lookup is deprecated.\", FutureWarning)\n"
     ]
    },
    {
     "data": {
      "text/html": [
       "<table border=\"1\" class=\"dataframe\">\n",
       "    <thead>\n",
       "        <tr>\n",
       "            <th>Chicago AverageTemperature</th>\n",
       "        </tr>\n",
       "    </thead>\n",
       "    <tbody>\n",
       "        <tr>\n",
       "            <td>20.247                    </td>\n",
       "        </tr>\n",
       "    </tbody>\n",
       "</table>"
      ],
      "text/plain": [
       "Chicago AverageTemperature\n",
       "20.247"
      ]
     },
     "execution_count": 257,
     "metadata": {},
     "output_type": "execute_result"
    }
   ],
   "source": [
    "#BEGINNING OF STATISTIC WRANGLING\n",
    "#STATS FOR CHICAGO SUMMER\n",
    "minofChicagoJuly = npy.min(Chicagojuly.select(\"Chicago AverageTemperature\"))\n",
    "minofChicagoJuly"
   ]
  },
  {
   "cell_type": "code",
   "execution_count": 233,
   "metadata": {},
   "outputs": [
    {
     "name": "stderr",
     "output_type": "stream",
     "text": [
      "/anaconda3/lib/python3.6/site-packages/datascience/tables.py:192: FutureWarning: Implicit column method lookup is deprecated.\n",
      "  warnings.warn(\"Implicit column method lookup is deprecated.\", FutureWarning)\n"
     ]
    },
    {
     "data": {
      "text/html": [
       "<table border=\"1\" class=\"dataframe\">\n",
       "    <thead>\n",
       "        <tr>\n",
       "            <th>Chicago AverageTemperature</th>\n",
       "        </tr>\n",
       "    </thead>\n",
       "    <tbody>\n",
       "        <tr>\n",
       "            <td>21.934                    </td>\n",
       "        </tr>\n",
       "    </tbody>\n",
       "</table>"
      ],
      "text/plain": [
       "Chicago AverageTemperature\n",
       "21.934"
      ]
     },
     "execution_count": 233,
     "metadata": {},
     "output_type": "execute_result"
    }
   ],
   "source": [
    "meanofChicagoJuly = npy.mean(Chicagojuly.select(\"Chicago AverageTemperature\"))\n",
    "meanofChicagoJuly\n"
   ]
  },
  {
   "cell_type": "code",
   "execution_count": null,
   "metadata": {},
   "outputs": [],
   "source": []
  },
  {
   "cell_type": "code",
   "execution_count": 234,
   "metadata": {},
   "outputs": [
    {
     "name": "stderr",
     "output_type": "stream",
     "text": [
      "/anaconda3/lib/python3.6/site-packages/datascience/tables.py:192: FutureWarning: Implicit column method lookup is deprecated.\n",
      "  warnings.warn(\"Implicit column method lookup is deprecated.\", FutureWarning)\n"
     ]
    },
    {
     "data": {
      "text/html": [
       "<table border=\"1\" class=\"dataframe\">\n",
       "    <thead>\n",
       "        <tr>\n",
       "            <th>Chicago AverageTemperature</th>\n",
       "        </tr>\n",
       "    </thead>\n",
       "    <tbody>\n",
       "        <tr>\n",
       "            <td>1.09051                   </td>\n",
       "        </tr>\n",
       "    </tbody>\n",
       "</table>"
      ],
      "text/plain": [
       "Chicago AverageTemperature\n",
       "1.09051"
      ]
     },
     "execution_count": 234,
     "metadata": {},
     "output_type": "execute_result"
    }
   ],
   "source": [
    "stdvofChicagoJuly = npy.std(Chicagojuly.select(\"Chicago AverageTemperature\"),ddof=1)\n",
    "stdvofChicagoJuly"
   ]
  },
  {
   "cell_type": "code",
   "execution_count": 235,
   "metadata": {},
   "outputs": [
    {
     "name": "stderr",
     "output_type": "stream",
     "text": [
      "/anaconda3/lib/python3.6/site-packages/datascience/tables.py:192: FutureWarning: Implicit column method lookup is deprecated.\n",
      "  warnings.warn(\"Implicit column method lookup is deprecated.\", FutureWarning)\n"
     ]
    },
    {
     "data": {
      "text/html": [
       "<table border=\"1\" class=\"dataframe\">\n",
       "    <thead>\n",
       "        <tr>\n",
       "            <th>Chicago AverageTemperature</th>\n",
       "        </tr>\n",
       "    </thead>\n",
       "    <tbody>\n",
       "        <tr>\n",
       "            <td>23.713                    </td>\n",
       "        </tr>\n",
       "    </tbody>\n",
       "</table>"
      ],
      "text/plain": [
       "Chicago AverageTemperature\n",
       "23.713"
      ]
     },
     "execution_count": 235,
     "metadata": {},
     "output_type": "execute_result"
    }
   ],
   "source": [
    "maxofChicagoJuly = npy.max(Chicagojuly.select(\"Chicago AverageTemperature\"))\n",
    "maxofChicagoJuly"
   ]
  },
  {
   "cell_type": "code",
   "execution_count": 236,
   "metadata": {},
   "outputs": [
    {
     "name": "stderr",
     "output_type": "stream",
     "text": [
      "/anaconda3/lib/python3.6/site-packages/datascience/tables.py:192: FutureWarning: Implicit column method lookup is deprecated.\n",
      "  warnings.warn(\"Implicit column method lookup is deprecated.\", FutureWarning)\n"
     ]
    },
    {
     "data": {
      "text/html": [
       "<table border=\"1\" class=\"dataframe\">\n",
       "    <thead>\n",
       "        <tr>\n",
       "            <th>NYC average temps.</th>\n",
       "        </tr>\n",
       "    </thead>\n",
       "    <tbody>\n",
       "        <tr>\n",
       "            <td>-3.356            </td>\n",
       "        </tr>\n",
       "    </tbody>\n",
       "</table>"
      ],
      "text/plain": [
       "NYC average temps.\n",
       "-3.356"
      ]
     },
     "execution_count": 236,
     "metadata": {},
     "output_type": "execute_result"
    }
   ],
   "source": [
    "#STATS FOR DECEMBER NYC\n",
    "minofdecNY = npy.min(decNY.select(\"NYC average temps.\"))\n",
    "minofdecNY"
   ]
  },
  {
   "cell_type": "code",
   "execution_count": 237,
   "metadata": {},
   "outputs": [
    {
     "name": "stderr",
     "output_type": "stream",
     "text": [
      "/anaconda3/lib/python3.6/site-packages/datascience/tables.py:192: FutureWarning: Implicit column method lookup is deprecated.\n",
      "  warnings.warn(\"Implicit column method lookup is deprecated.\", FutureWarning)\n"
     ]
    },
    {
     "data": {
      "text/html": [
       "<table border=\"1\" class=\"dataframe\">\n",
       "    <thead>\n",
       "        <tr>\n",
       "            <th>NYC average temps.</th>\n",
       "        </tr>\n",
       "    </thead>\n",
       "    <tbody>\n",
       "        <tr>\n",
       "            <td>0.357846          </td>\n",
       "        </tr>\n",
       "    </tbody>\n",
       "</table>"
      ],
      "text/plain": [
       "NYC average temps.\n",
       "0.357846"
      ]
     },
     "execution_count": 237,
     "metadata": {},
     "output_type": "execute_result"
    }
   ],
   "source": [
    "meanofdecNY = npy.mean(decNY.select(\"NYC average temps.\"))\n",
    "meanofdecNY"
   ]
  },
  {
   "cell_type": "code",
   "execution_count": null,
   "metadata": {},
   "outputs": [],
   "source": []
  },
  {
   "cell_type": "code",
   "execution_count": 199,
   "metadata": {},
   "outputs": [
    {
     "name": "stderr",
     "output_type": "stream",
     "text": [
      "/anaconda3/lib/python3.6/site-packages/datascience/tables.py:192: FutureWarning: Implicit column method lookup is deprecated.\n",
      "  warnings.warn(\"Implicit column method lookup is deprecated.\", FutureWarning)\n"
     ]
    },
    {
     "data": {
      "text/html": [
       "<table border=\"1\" class=\"dataframe\">\n",
       "    <thead>\n",
       "        <tr>\n",
       "            <th>NYC average temps.</th>\n",
       "        </tr>\n",
       "    </thead>\n",
       "    <tbody>\n",
       "        <tr>\n",
       "            <td>2.26425           </td>\n",
       "        </tr>\n",
       "    </tbody>\n",
       "</table>"
      ],
      "text/plain": [
       "NYC average temps.\n",
       "2.26425"
      ]
     },
     "execution_count": 199,
     "metadata": {},
     "output_type": "execute_result"
    }
   ],
   "source": [
    "stdofdecNY = npy.std(decNY.select(\"NYC average temps.\"), ddof= 1)\n",
    "stdofdecNY"
   ]
  },
  {
   "cell_type": "code",
   "execution_count": 201,
   "metadata": {},
   "outputs": [
    {
     "name": "stderr",
     "output_type": "stream",
     "text": [
      "/anaconda3/lib/python3.6/site-packages/datascience/tables.py:192: FutureWarning: Implicit column method lookup is deprecated.\n",
      "  warnings.warn(\"Implicit column method lookup is deprecated.\", FutureWarning)\n"
     ]
    },
    {
     "data": {
      "text/html": [
       "<table border=\"1\" class=\"dataframe\">\n",
       "    <thead>\n",
       "        <tr>\n",
       "            <th>NYC average temps.</th>\n",
       "        </tr>\n",
       "    </thead>\n",
       "    <tbody>\n",
       "        <tr>\n",
       "            <td>3.861             </td>\n",
       "        </tr>\n",
       "    </tbody>\n",
       "</table>"
      ],
      "text/plain": [
       "NYC average temps.\n",
       "3.861"
      ]
     },
     "execution_count": 201,
     "metadata": {},
     "output_type": "execute_result"
    }
   ],
   "source": [
    "maxofdecNY = npy.max(decNY.select(\"NYC average temps.\"))\n",
    "maxofdecNY"
   ]
  },
  {
   "cell_type": "code",
   "execution_count": 204,
   "metadata": {},
   "outputs": [
    {
     "name": "stderr",
     "output_type": "stream",
     "text": [
      "/anaconda3/lib/python3.6/site-packages/datascience/tables.py:192: FutureWarning: Implicit column method lookup is deprecated.\n",
      "  warnings.warn(\"Implicit column method lookup is deprecated.\", FutureWarning)\n"
     ]
    },
    {
     "data": {
      "text/html": [
       "<table border=\"1\" class=\"dataframe\">\n",
       "    <thead>\n",
       "        <tr>\n",
       "            <th>Chi december temps.</th>\n",
       "        </tr>\n",
       "    </thead>\n",
       "    <tbody>\n",
       "        <tr>\n",
       "            <td>-3.761             </td>\n",
       "        </tr>\n",
       "    </tbody>\n",
       "</table>"
      ],
      "text/plain": [
       "Chi december temps.\n",
       "-3.761"
      ]
     },
     "execution_count": 204,
     "metadata": {},
     "output_type": "execute_result"
    }
   ],
   "source": [
    "#STATS FOR DECEMBER CHICAGO\n",
    "minofdecCHI = npy.min(decCHI.select(\"Chi december temps.\"))\n",
    "minofdecCHI"
   ]
  },
  {
   "cell_type": "code",
   "execution_count": 205,
   "metadata": {},
   "outputs": [
    {
     "name": "stderr",
     "output_type": "stream",
     "text": [
      "/anaconda3/lib/python3.6/site-packages/datascience/tables.py:192: FutureWarning: Implicit column method lookup is deprecated.\n",
      "  warnings.warn(\"Implicit column method lookup is deprecated.\", FutureWarning)\n"
     ]
    },
    {
     "data": {
      "text/html": [
       "<table border=\"1\" class=\"dataframe\">\n",
       "    <thead>\n",
       "        <tr>\n",
       "            <th>Chi december temps.</th>\n",
       "        </tr>\n",
       "    </thead>\n",
       "    <tbody>\n",
       "        <tr>\n",
       "            <td>2.23415            </td>\n",
       "        </tr>\n",
       "    </tbody>\n",
       "</table>"
      ],
      "text/plain": [
       "Chi december temps.\n",
       "2.23415"
      ]
     },
     "execution_count": 205,
     "metadata": {},
     "output_type": "execute_result"
    }
   ],
   "source": [
    "meanofdecCHI = npy.mean(decCHI.select(\"Chi december temps.\"))\n",
    "meanofdecCHI"
   ]
  },
  {
   "cell_type": "code",
   "execution_count": 206,
   "metadata": {},
   "outputs": [
    {
     "name": "stderr",
     "output_type": "stream",
     "text": [
      "/anaconda3/lib/python3.6/site-packages/datascience/tables.py:192: FutureWarning: Implicit column method lookup is deprecated.\n",
      "  warnings.warn(\"Implicit column method lookup is deprecated.\", FutureWarning)\n"
     ]
    },
    {
     "data": {
      "text/html": [
       "<table border=\"1\" class=\"dataframe\">\n",
       "    <thead>\n",
       "        <tr>\n",
       "            <th>Chi december temps.</th>\n",
       "        </tr>\n",
       "    </thead>\n",
       "    <tbody>\n",
       "        <tr>\n",
       "            <td>2.88093            </td>\n",
       "        </tr>\n",
       "    </tbody>\n",
       "</table>"
      ],
      "text/plain": [
       "Chi december temps.\n",
       "2.88093"
      ]
     },
     "execution_count": 206,
     "metadata": {},
     "output_type": "execute_result"
    }
   ],
   "source": [
    "stdofdecCHI = npy.std(decCHI.select(\"Chi december temps.\"), ddof=1)\n",
    "stdofdecCHI"
   ]
  },
  {
   "cell_type": "code",
   "execution_count": 258,
   "metadata": {},
   "outputs": [
    {
     "name": "stderr",
     "output_type": "stream",
     "text": [
      "/anaconda3/lib/python3.6/site-packages/datascience/tables.py:192: FutureWarning: Implicit column method lookup is deprecated.\n",
      "  warnings.warn(\"Implicit column method lookup is deprecated.\", FutureWarning)\n"
     ]
    },
    {
     "data": {
      "text/html": [
       "<table border=\"1\" class=\"dataframe\">\n",
       "    <thead>\n",
       "        <tr>\n",
       "            <th>Chi december temps.</th>\n",
       "        </tr>\n",
       "    </thead>\n",
       "    <tbody>\n",
       "        <tr>\n",
       "            <td>5.592              </td>\n",
       "        </tr>\n",
       "    </tbody>\n",
       "</table>"
      ],
      "text/plain": [
       "Chi december temps.\n",
       "5.592"
      ]
     },
     "execution_count": 258,
     "metadata": {},
     "output_type": "execute_result"
    }
   ],
   "source": [
    "maxofdecCHI = npy.max(decCHI.select(\"Chi december temps.\"))\n",
    "maxofdecCHI"
   ]
  },
  {
   "cell_type": "code",
   "execution_count": 265,
   "metadata": {},
   "outputs": [
    {
     "name": "stderr",
     "output_type": "stream",
     "text": [
      "/anaconda3/lib/python3.6/site-packages/datascience/tables.py:192: FutureWarning: Implicit column method lookup is deprecated.\n",
      "  warnings.warn(\"Implicit column method lookup is deprecated.\", FutureWarning)\n"
     ]
    },
    {
     "data": {
      "text/html": [
       "<table border=\"1\" class=\"dataframe\">\n",
       "    <thead>\n",
       "        <tr>\n",
       "            <th>NYC AverageTemperature</th>\n",
       "        </tr>\n",
       "    </thead>\n",
       "    <tbody>\n",
       "        <tr>\n",
       "            <td>20.727                </td>\n",
       "        </tr>\n",
       "    </tbody>\n",
       "</table>"
      ],
      "text/plain": [
       "NYC AverageTemperature\n",
       "20.727"
      ]
     },
     "execution_count": 265,
     "metadata": {},
     "output_type": "execute_result"
    }
   ],
   "source": [
    "#STATS FOR NYC SUMMER\n",
    "minofNYCjuly = npy.min(NYCjuly.select('NYC AverageTemperature'))\n",
    "minofNYCjuly"
   ]
  },
  {
   "cell_type": "code",
   "execution_count": 266,
   "metadata": {},
   "outputs": [
    {
     "name": "stderr",
     "output_type": "stream",
     "text": [
      "/anaconda3/lib/python3.6/site-packages/datascience/tables.py:192: FutureWarning: Implicit column method lookup is deprecated.\n",
      "  warnings.warn(\"Implicit column method lookup is deprecated.\", FutureWarning)\n"
     ]
    },
    {
     "data": {
      "text/html": [
       "<table border=\"1\" class=\"dataframe\">\n",
       "    <thead>\n",
       "        <tr>\n",
       "            <th>NYC AverageTemperature</th>\n",
       "        </tr>\n",
       "    </thead>\n",
       "    <tbody>\n",
       "        <tr>\n",
       "            <td>22.7908               </td>\n",
       "        </tr>\n",
       "    </tbody>\n",
       "</table>"
      ],
      "text/plain": [
       "NYC AverageTemperature\n",
       "22.7908"
      ]
     },
     "execution_count": 266,
     "metadata": {},
     "output_type": "execute_result"
    }
   ],
   "source": [
    "meanofNYCjuly = npy.mean(NYCjuly.select('NYC AverageTemperature'))\n",
    "meanofNYCjuly"
   ]
  },
  {
   "cell_type": "code",
   "execution_count": 270,
   "metadata": {},
   "outputs": [
    {
     "name": "stderr",
     "output_type": "stream",
     "text": [
      "/anaconda3/lib/python3.6/site-packages/datascience/tables.py:192: FutureWarning: Implicit column method lookup is deprecated.\n",
      "  warnings.warn(\"Implicit column method lookup is deprecated.\", FutureWarning)\n"
     ]
    },
    {
     "data": {
      "text/html": [
       "<table border=\"1\" class=\"dataframe\">\n",
       "    <thead>\n",
       "        <tr>\n",
       "            <th>NYC AverageTemperature</th>\n",
       "        </tr>\n",
       "    </thead>\n",
       "    <tbody>\n",
       "        <tr>\n",
       "            <td>1.30247               </td>\n",
       "        </tr>\n",
       "    </tbody>\n",
       "</table>"
      ],
      "text/plain": [
       "NYC AverageTemperature\n",
       "1.30247"
      ]
     },
     "execution_count": 270,
     "metadata": {},
     "output_type": "execute_result"
    }
   ],
   "source": [
    "stdofNYCjuly = npy.std(NYCjuly.select('NYC AverageTemperature'), ddof=1)\n",
    "stdofNYCjuly"
   ]
  },
  {
   "cell_type": "code",
   "execution_count": 271,
   "metadata": {},
   "outputs": [
    {
     "name": "stderr",
     "output_type": "stream",
     "text": [
      "/anaconda3/lib/python3.6/site-packages/datascience/tables.py:192: FutureWarning: Implicit column method lookup is deprecated.\n",
      "  warnings.warn(\"Implicit column method lookup is deprecated.\", FutureWarning)\n"
     ]
    },
    {
     "data": {
      "text/html": [
       "<table border=\"1\" class=\"dataframe\">\n",
       "    <thead>\n",
       "        <tr>\n",
       "            <th>NYC AverageTemperature</th>\n",
       "        </tr>\n",
       "    </thead>\n",
       "    <tbody>\n",
       "        <tr>\n",
       "            <td>24.722                </td>\n",
       "        </tr>\n",
       "    </tbody>\n",
       "</table>"
      ],
      "text/plain": [
       "NYC AverageTemperature\n",
       "24.722"
      ]
     },
     "execution_count": 271,
     "metadata": {},
     "output_type": "execute_result"
    }
   ],
   "source": [
    "maxofNYCjuly = npy.max(NYCjuly.select('NYC AverageTemperature'))\n",
    "maxofNYCjuly"
   ]
  },
  {
   "cell_type": "code",
   "execution_count": 276,
   "metadata": {},
   "outputs": [
    {
     "data": {
      "text/html": [
       "<table border=\"1\" class=\"dataframe\">\n",
       "    <thead>\n",
       "        <tr>\n",
       "            <th>Name</th> <th>Min</th> <th>Mean</th> <th>Stdev</th> <th>Max</th>\n",
       "        </tr>\n",
       "    </thead>\n",
       "    <tbody>\n",
       "        <tr>\n",
       "            <td>Chicago July    </td> <td>20.247</td> <td>21.934  </td> <td>1.09051</td> <td>23.713</td>\n",
       "        </tr>\n",
       "        <tr>\n",
       "            <td>Chicago December</td> <td>-3.761</td> <td>2.23415 </td> <td>2.88093</td> <td>5.592 </td>\n",
       "        </tr>\n",
       "        <tr>\n",
       "            <td>New York July   </td> <td>20.727</td> <td>22.7908 </td> <td>1.30247</td> <td>24.722</td>\n",
       "        </tr>\n",
       "        <tr>\n",
       "            <td>New York Winter </td> <td>-3.356</td> <td>0.357846</td> <td>2.26425</td> <td>3.861 </td>\n",
       "        </tr>\n",
       "    </tbody>\n",
       "</table>"
      ],
      "text/plain": [
       "Name             | Min    | Mean     | Stdev   | Max\n",
       "Chicago July     | 20.247 | 21.934   | 1.09051 | 23.713\n",
       "Chicago December | -3.761 | 2.23415  | 2.88093 | 5.592\n",
       "New York July    | 20.727 | 22.7908  | 1.30247 | 24.722\n",
       "New York Winter  | -3.356 | 0.357846 | 2.26425 | 3.861"
      ]
     },
     "execution_count": 276,
     "metadata": {},
     "output_type": "execute_result"
    }
   ],
   "source": [
    "name = ['Chicago July','Chicago December', 'New York July', 'New York Winter' ]\n",
    "minimum = ['20.247', '-3.761','20.727','-3.356']\n",
    "mean = ['21.934','2.23415','22.7908','0.357846']\n",
    "stdev = ['1.09051','2.88093','1.30247','2.26425']\n",
    "maximum =['23.713','5.592','24.722','3.861'] \n",
    "#Creating table with stats in it\n",
    "stats = Table().with_columns(\"Name\", name, \"Min\", minimum, \"Mean\", mean, \"Stdev\", stdev, \"Max\", maximum)\n",
    "stats"
   ]
  },
  {
   "cell_type": "code",
   "execution_count": null,
   "metadata": {},
   "outputs": [],
   "source": []
  }
 ],
 "metadata": {
  "kernelspec": {
   "display_name": "Python 3",
   "language": "python",
   "name": "python3"
  },
  "language_info": {
   "codemirror_mode": {
    "name": "ipython",
    "version": 3
   },
   "file_extension": ".py",
   "mimetype": "text/x-python",
   "name": "python",
   "nbconvert_exporter": "python",
   "pygments_lexer": "ipython3",
   "version": "3.6.5"
  }
 },
 "nbformat": 4,
 "nbformat_minor": 2
}
